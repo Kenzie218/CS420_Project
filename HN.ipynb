{
  "nbformat": 4,
  "nbformat_minor": 0,
  "metadata": {
    "colab": {
      "provenance": [],
      "mount_file_id": "1k226t5SNqj9VTjnqJUrdAtRZAF--Hokb",
      "authorship_tag": "ABX9TyO0Xuay9tjsVy7lBKRs7/yH",
      "include_colab_link": true
    },
    "kernelspec": {
      "name": "python3",
      "display_name": "Python 3"
    },
    "language_info": {
      "name": "python"
    }
  },
  "cells": [
    {
      "cell_type": "markdown",
      "metadata": {
        "id": "view-in-github",
        "colab_type": "text"
      },
      "source": [
        "<a href=\"https://colab.research.google.com/github/Kenzie218/CS420_Project/blob/main/HN.ipynb\" target=\"_parent\"><img src=\"https://colab.research.google.com/assets/colab-badge.svg\" alt=\"Open In Colab\"/></a>"
      ]
    },
    {
      "cell_type": "code",
      "execution_count": null,
      "metadata": {
        "colab": {
          "base_uri": "https://localhost:8080/"
        },
        "id": "K7RZB-lD7B2W",
        "outputId": "c0dd041a-824c-4bce-a680-3453f69b5624"
      },
      "outputs": [
        {
          "output_type": "stream",
          "name": "stdout",
          "text": [
            "Total messages: 5572\n",
            "label\n",
            "ham     4825\n",
            "spam     747\n",
            "Name: count, dtype: int64\n",
            "\n",
            "Training set label counts:\n",
            " spam\n",
            "0    1218\n",
            "1     182\n",
            "Name: count, dtype: int64\n",
            "\n",
            "Test set label counts:\n",
            " spam\n",
            "0    522\n",
            "1     78\n",
            "Name: count, dtype: int64\n",
            "\n",
            "Accuracy: 0.87\n",
            "\n",
            "Confusion Matrix:\n",
            " [[522   0]\n",
            " [ 78   0]]\n",
            "\n",
            "Classification Report:\n",
            "               precision    recall  f1-score   support\n",
            "\n",
            "           0       0.87      1.00      0.93       522\n",
            "           1       0.00      0.00      0.00        78\n",
            "\n",
            "    accuracy                           0.87       600\n",
            "   macro avg       0.43      0.50      0.47       600\n",
            "weighted avg       0.76      0.87      0.81       600\n",
            "\n"
          ]
        },
        {
          "output_type": "stream",
          "name": "stderr",
          "text": [
            "/usr/local/lib/python3.11/dist-packages/sklearn/metrics/_classification.py:1565: UndefinedMetricWarning: Precision is ill-defined and being set to 0.0 in labels with no predicted samples. Use `zero_division` parameter to control this behavior.\n",
            "  _warn_prf(average, modifier, f\"{metric.capitalize()} is\", len(result))\n",
            "/usr/local/lib/python3.11/dist-packages/sklearn/metrics/_classification.py:1565: UndefinedMetricWarning: Precision is ill-defined and being set to 0.0 in labels with no predicted samples. Use `zero_division` parameter to control this behavior.\n",
            "  _warn_prf(average, modifier, f\"{metric.capitalize()} is\", len(result))\n",
            "/usr/local/lib/python3.11/dist-packages/sklearn/metrics/_classification.py:1565: UndefinedMetricWarning: Precision is ill-defined and being set to 0.0 in labels with no predicted samples. Use `zero_division` parameter to control this behavior.\n",
            "  _warn_prf(average, modifier, f\"{metric.capitalize()} is\", len(result))\n"
          ]
        }
      ],
      "source": [
        "import numpy as np\n",
        "import pandas as pd\n",
        "import requests\n",
        "import zipfile\n",
        "import io\n",
        "from sklearn.feature_extraction.text import TfidfVectorizer\n",
        "from sklearn.decomposition import TruncatedSVD\n",
        "from sklearn.model_selection import train_test_split\n",
        "from sklearn.metrics import accuracy_score, confusion_matrix, classification_report\n",
        "\n",
        "# 1. Download and extract the SMS Spam Collection\n",
        "uci_url = 'https://archive.ics.uci.edu/ml/machine-learning-databases/00228/smsspamcollection.zip'\n",
        "response = requests.get(uci_url)\n",
        "with zipfile.ZipFile(io.BytesIO(response.content)) as z:\n",
        "    with z.open('SMSSpamCollection') as f:\n",
        "        df = pd.read_csv(f, sep='\\t', names=['label', 'message'])\n",
        "df['spam'] = df['label'].map({'ham': 0, 'spam': 1})\n",
        "\n",
        "# 2. Output overall counts\n",
        "print(\"Total messages:\", len(df))\n",
        "print(df['label'].value_counts())\n",
        "\n",
        "# 3. (Optional) Subsample for speed\n",
        "df = df.sample(n=2000, random_state=42).reset_index(drop=True)\n",
        "\n",
        "# 4. Train/Test split\n",
        "X_train, X_test, y_train, y_test = train_test_split(\n",
        "    df['message'], df['spam'],\n",
        "    test_size=0.3, random_state=42, stratify=df['spam']\n",
        ")\n",
        "\n",
        "print(\"\\nTraining set label counts:\\n\", y_train.value_counts())\n",
        "print(\"\\nTest set label counts:\\n\", y_test.value_counts())\n",
        "\n",
        "# 5. Feature pipeline: TF-IDF → SVD → binarize\n",
        "tfidf = TfidfVectorizer(max_features=2000, stop_words='english')\n",
        "X_train_tfidf = tfidf.fit_transform(X_train).toarray()\n",
        "X_test_tfidf  = tfidf.transform(X_test).toarray()\n",
        "\n",
        "svd = TruncatedSVD(n_components=100, random_state=42)\n",
        "X_train_red = svd.fit_transform(X_train_tfidf)\n",
        "X_test_red  = svd.transform(X_test_tfidf)\n",
        "\n",
        "X_train_bip = np.where(X_train_red >= 0, 1, -1)\n",
        "X_test_bip  = np.where(X_test_red  >= 0, 1, -1)\n",
        "\n",
        "# 6. Hopfield Network definition\n",
        "class HopfieldNetwork:\n",
        "    def __init__(self):\n",
        "        self.W = None\n",
        "\n",
        "    def train(self, patterns):\n",
        "        n = patterns.shape[1]\n",
        "        W = np.zeros((n, n))\n",
        "        for p in patterns:\n",
        "            W += np.outer(p, p)\n",
        "        np.fill_diagonal(W, 0)\n",
        "        self.W = W / patterns.shape[0]\n",
        "\n",
        "    def recall(self, pattern, steps=200):\n",
        "        s = pattern.copy()\n",
        "        for _ in range(steps):\n",
        "            i = np.random.randint(s.size)\n",
        "            s[i] = 1 if self.W[i].dot(s) >= 0 else -1\n",
        "        return s\n",
        "\n",
        "# 7. Train on spam patterns only\n",
        "spam_patterns = X_train_bip[y_train.values == 1]\n",
        "net = HopfieldNetwork()\n",
        "net.train(spam_patterns)\n",
        "\n",
        "# 8. Predict and evaluate\n",
        "y_pred = []\n",
        "for x in X_test_bip:\n",
        "    r = net.recall(x)\n",
        "    y_pred.append(int(any(np.array_equal(r, p) for p in spam_patterns)))\n",
        "y_pred = np.array(y_pred)\n",
        "\n",
        "print(\"\\nAccuracy:\", accuracy_score(y_test, y_pred))\n",
        "print(\"\\nConfusion Matrix:\\n\", confusion_matrix(y_test, y_pred))\n",
        "print(\"\\nClassification Report:\\n\", classification_report(y_test, y_pred))\n"
      ]
    }
  ]
}